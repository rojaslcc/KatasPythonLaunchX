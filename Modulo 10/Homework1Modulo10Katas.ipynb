{
 "cells": [
  {
   "cell_type": "markdown",
   "metadata": {},
   "source": [
    "<h1>Intentamos abrir un archivo inexistente</h1>"
   ]
  },
  {
   "cell_type": "code",
   "execution_count": 6,
   "metadata": {},
   "outputs": [
    {
     "ename": "FileNotFoundError",
     "evalue": "[Errno 2] No such file or directory: 'file.jpg'",
     "output_type": "error",
     "traceback": [
      "\u001b[0;31m---------------------------------------------------------------------------\u001b[0m",
      "\u001b[0;31mFileNotFoundError\u001b[0m                         Traceback (most recent call last)",
      "\u001b[1;32m/Users/rojaslcc/launchx/KatasPythonLuanchX/Modulo 10/Homework1Modulo10Katas.ipynb Cell 2'\u001b[0m in \u001b[0;36m<module>\u001b[0;34m\u001b[0m\n\u001b[0;32m----> <a href='vscode-notebook-cell:/Users/rojaslcc/launchx/KatasPythonLuanchX/Modulo%2010/Homework1Modulo10Katas.ipynb#ch0000000?line=0'>1</a>\u001b[0m \u001b[39mopen\u001b[39;49m(\u001b[39m\"\u001b[39;49m\u001b[39mfile.jpg\u001b[39;49m\u001b[39m\"\u001b[39;49m)\n",
      "\u001b[0;31mFileNotFoundError\u001b[0m: [Errno 2] No such file or directory: 'file.jpg'"
     ]
    }
   ],
   "source": [
    "open(\"file.jpg\")"
   ]
  },
  {
   "cell_type": "markdown",
   "metadata": {},
   "source": [
    "<h1>Ejecutamos open.py</h1>"
   ]
  },
  {
   "cell_type": "code",
   "execution_count": 5,
   "metadata": {},
   "outputs": [
    {
     "name": "stdout",
     "output_type": "stream",
     "text": [
      "Traceback (most recent call last):\n",
      "  File \"/Users/rojaslcc/launchx/KatasPythonLuanchX/Modulo 10/open.py\", line 5, in <module>\n",
      "    main()\n",
      "  File \"/Users/rojaslcc/launchx/KatasPythonLuanchX/Modulo 10/open.py\", line 2, in main\n",
      "    open(\"/path/to/mars.jpg\")\n",
      "FileNotFoundError: [Errno 2] No such file or directory: '/path/to/mars.jpg'\n"
     ]
    }
   ],
   "source": [
    "!python3 open.py"
   ]
  },
  {
   "cell_type": "markdown",
   "metadata": {},
   "source": [
    "<h1>TRY...EXCEPT</h1>"
   ]
  },
  {
   "cell_type": "code",
   "execution_count": 15,
   "metadata": {},
   "outputs": [
    {
     "name": "stdout",
     "output_type": "stream",
     "text": [
      "No se pudo encontrar el archivo config.txt\n"
     ]
    }
   ],
   "source": [
    "try:\n",
    "    open(\"config.txt\")\n",
    "except FileNotFoundError:\n",
    "    print(\"No se pudo encontrar el archivo config.txt\")"
   ]
  },
  {
   "cell_type": "code",
   "execution_count": 16,
   "metadata": {},
   "outputs": [
    {
     "name": "stdout",
     "output_type": "stream",
     "text": [
      "Traceback (most recent call last):\n",
      "  File \"/Users/rojaslcc/launchx/KatasPythonLuanchX/Modulo 10/open2.py\", line 8, in <module>\n",
      "    main()\n",
      "  File \"/Users/rojaslcc/launchx/KatasPythonLuanchX/Modulo 10/open2.py\", line 3, in main\n",
      "    configuration = open(\"config2.txt\")\n",
      "IsADirectoryError: [Errno 21] Is a directory: 'config2.txt'\n"
     ]
    }
   ],
   "source": [
    "!python3 open2.py"
   ]
  },
  {
   "cell_type": "markdown",
   "metadata": {},
   "source": [
    "<h1>Mensaje erroneo por usar Exception en el Except</h1>"
   ]
  },
  {
   "cell_type": "code",
   "execution_count": 1,
   "metadata": {},
   "outputs": [
    {
     "name": "stdout",
     "output_type": "stream",
     "text": [
      "No se pudo encontrar el archivo config.txt\n"
     ]
    }
   ],
   "source": [
    "!chmod 000 config3.txt\n",
    "!python3 open3.py\n",
    "!chmod 777 config3.txt"
   ]
  },
  {
   "cell_type": "markdown",
   "metadata": {},
   "source": [
    "<p>La manera correcta es usar los errores que esperamos y no dar un mensaje generico</p>"
   ]
  },
  {
   "cell_type": "code",
   "execution_count": 22,
   "metadata": {},
   "outputs": [
    {
     "name": "stdout",
     "output_type": "stream",
     "text": [
      "config2.txt es un directorio, no puedo leerlo\n"
     ]
    }
   ],
   "source": [
    "!python3 open4.py"
   ]
  },
  {
   "cell_type": "markdown",
   "metadata": {},
   "source": [
    "<p>Volvamos al ejemplo inicial pero aplicando el mensaje por permisos</p>"
   ]
  },
  {
   "cell_type": "code",
   "execution_count": 2,
   "metadata": {},
   "outputs": [
    {
     "name": "stdout",
     "output_type": "stream",
     "text": [
      "Error de lectura, revisar permisos\n"
     ]
    }
   ],
   "source": [
    "!chmod 000 config3.txt\n",
    "!python3 open5.py\n",
    "!chmod 777 config3.txt"
   ]
  },
  {
   "cell_type": "markdown",
   "metadata": {},
   "source": [
    "<h1>Otra manera de manejar el mensaje de error</h1>"
   ]
  },
  {
   "cell_type": "code",
   "execution_count": 25,
   "metadata": {},
   "outputs": [
    {
     "name": "stdout",
     "output_type": "stream",
     "text": [
      "Problema al intentar leer el archivo: [Errno 2] No such file or directory: 'mars.jpg'\n"
     ]
    }
   ],
   "source": [
    "try:\n",
    "    open(\"mars.jpg\")\n",
    "except FileNotFoundError as err:\n",
    "    print(\"Problema al intentar leer el archivo:\", err)"
   ]
  },
  {
   "cell_type": "markdown",
   "metadata": {},
   "source": [
    "<p>Diferenciar errores por .errno</p>"
   ]
  },
  {
   "cell_type": "code",
   "execution_count": 27,
   "metadata": {},
   "outputs": [
    {
     "name": "stdout",
     "output_type": "stream",
     "text": [
      "No fue encontra el archivo!\n"
     ]
    }
   ],
   "source": [
    "try:\n",
    "    open(\"config.txt\")\n",
    "except OSError as err:\n",
    "    if err.errno == 2:\n",
    "        print(\"No fue encontra el archivo!\")\n",
    "    elif err.errno == 13:\n",
    "        print(\"Archivo encontrado pero no puede ser leido\")"
   ]
  },
  {
   "cell_type": "markdown",
   "metadata": {},
   "source": [
    "<h1>Los astronautas limitan su uso de agua a unos 11 litros al día. Vamos a crear una función que, con base al número de astronautas, pueda calcular la cantidad de agua quedará después de un día o más:</h1>"
   ]
  },
  {
   "cell_type": "code",
   "execution_count": 29,
   "metadata": {},
   "outputs": [
    {
     "name": "stdout",
     "output_type": "stream",
     "text": [
      "Agual total despues de 2 dias es: -10 litros\n"
     ]
    }
   ],
   "source": [
    "def water_left(astronauts, water_left, days_left):\n",
    "    daily_usage = astronauts * 11\n",
    "    total_usage = daily_usage * days_left\n",
    "    total_water_left = water_left - total_usage\n",
    "    return f\"Agual total despues de {days_left} dias es: {total_water_left} litros\"\n",
    "\n",
    "print(water_left(5, 100, 2))"
   ]
  },
  {
   "cell_type": "code",
   "execution_count": 30,
   "metadata": {},
   "outputs": [
    {
     "ename": "RuntimeError",
     "evalue": "No hay suficiente agua para 5 astronautas",
     "output_type": "error",
     "traceback": [
      "\u001b[0;31m---------------------------------------------------------------------------\u001b[0m",
      "\u001b[0;31mRuntimeError\u001b[0m                              Traceback (most recent call last)",
      "\u001b[1;32m/Users/rojaslcc/launchx/KatasPythonLuanchX/Modulo 10/Homework1Modulo10Katas.ipynb Cell 20'\u001b[0m in \u001b[0;36m<module>\u001b[0;34m\u001b[0m\n\u001b[1;32m      <a href='vscode-notebook-cell:/Users/rojaslcc/launchx/KatasPythonLuanchX/Modulo%2010/Homework1Modulo10Katas.ipynb#ch0000019?line=5'>6</a>\u001b[0m         \u001b[39mraise\u001b[39;00m \u001b[39mRuntimeError\u001b[39;00m(\u001b[39mf\u001b[39m\u001b[39m\"\u001b[39m\u001b[39mNo hay suficiente agua para \u001b[39m\u001b[39m{\u001b[39;00mastronauts\u001b[39m}\u001b[39;00m\u001b[39m astronautas\u001b[39m\u001b[39m\"\u001b[39m)\n\u001b[1;32m      <a href='vscode-notebook-cell:/Users/rojaslcc/launchx/KatasPythonLuanchX/Modulo%2010/Homework1Modulo10Katas.ipynb#ch0000019?line=6'>7</a>\u001b[0m     \u001b[39mreturn\u001b[39;00m \u001b[39mf\u001b[39m\u001b[39m\"\u001b[39m\u001b[39mAgual total despues de \u001b[39m\u001b[39m{\u001b[39;00mdays_left\u001b[39m}\u001b[39;00m\u001b[39m dias es: \u001b[39m\u001b[39m{\u001b[39;00mtotal_water_left\u001b[39m}\u001b[39;00m\u001b[39m litros\u001b[39m\u001b[39m\"\u001b[39m\n\u001b[0;32m----> <a href='vscode-notebook-cell:/Users/rojaslcc/launchx/KatasPythonLuanchX/Modulo%2010/Homework1Modulo10Katas.ipynb#ch0000019?line=8'>9</a>\u001b[0m \u001b[39mprint\u001b[39m(water_left(\u001b[39m5\u001b[39;49m, \u001b[39m100\u001b[39;49m, \u001b[39m2\u001b[39;49m))\n",
      "\u001b[1;32m/Users/rojaslcc/launchx/KatasPythonLuanchX/Modulo 10/Homework1Modulo10Katas.ipynb Cell 20'\u001b[0m in \u001b[0;36mwater_left\u001b[0;34m(astronauts, water_left, days_left)\u001b[0m\n\u001b[1;32m      <a href='vscode-notebook-cell:/Users/rojaslcc/launchx/KatasPythonLuanchX/Modulo%2010/Homework1Modulo10Katas.ipynb#ch0000019?line=3'>4</a>\u001b[0m total_water_left \u001b[39m=\u001b[39m water_left \u001b[39m-\u001b[39m total_usage\n\u001b[1;32m      <a href='vscode-notebook-cell:/Users/rojaslcc/launchx/KatasPythonLuanchX/Modulo%2010/Homework1Modulo10Katas.ipynb#ch0000019?line=4'>5</a>\u001b[0m \u001b[39mif\u001b[39;00m (total_water_left \u001b[39m<\u001b[39m \u001b[39m0\u001b[39m):\n\u001b[0;32m----> <a href='vscode-notebook-cell:/Users/rojaslcc/launchx/KatasPythonLuanchX/Modulo%2010/Homework1Modulo10Katas.ipynb#ch0000019?line=5'>6</a>\u001b[0m     \u001b[39mraise\u001b[39;00m \u001b[39mRuntimeError\u001b[39;00m(\u001b[39mf\u001b[39m\u001b[39m\"\u001b[39m\u001b[39mNo hay suficiente agua para \u001b[39m\u001b[39m{\u001b[39;00mastronauts\u001b[39m}\u001b[39;00m\u001b[39m astronautas\u001b[39m\u001b[39m\"\u001b[39m)\n\u001b[1;32m      <a href='vscode-notebook-cell:/Users/rojaslcc/launchx/KatasPythonLuanchX/Modulo%2010/Homework1Modulo10Katas.ipynb#ch0000019?line=6'>7</a>\u001b[0m \u001b[39mreturn\u001b[39;00m \u001b[39mf\u001b[39m\u001b[39m\"\u001b[39m\u001b[39mAgual total despues de \u001b[39m\u001b[39m{\u001b[39;00mdays_left\u001b[39m}\u001b[39;00m\u001b[39m dias es: \u001b[39m\u001b[39m{\u001b[39;00mtotal_water_left\u001b[39m}\u001b[39;00m\u001b[39m litros\u001b[39m\u001b[39m\"\u001b[39m\n",
      "\u001b[0;31mRuntimeError\u001b[0m: No hay suficiente agua para 5 astronautas"
     ]
    }
   ],
   "source": [
    "def water_left(astronauts, water_left, days_left):\n",
    "    daily_usage = astronauts * 11\n",
    "    total_usage = daily_usage * days_left\n",
    "    total_water_left = water_left - total_usage\n",
    "    if (total_water_left < 0):\n",
    "        raise RuntimeError(f\"No hay suficiente agua para {astronauts} astronautas\")\n",
    "    return f\"Agual total despues de {days_left} dias es: {total_water_left} litros\"\n",
    "\n",
    "print(water_left(5, 100, 2))"
   ]
  },
  {
   "cell_type": "code",
   "execution_count": 31,
   "metadata": {},
   "outputs": [
    {
     "name": "stdout",
     "output_type": "stream",
     "text": [
      "No hay suficiente agua para 5 astronautas\n"
     ]
    }
   ],
   "source": [
    "def water_left(astronauts, water_left, days_left):\n",
    "    daily_usage = astronauts * 11\n",
    "    total_usage = daily_usage * days_left\n",
    "    total_water_left = water_left - total_usage\n",
    "    if (total_water_left < 0):\n",
    "        raise RuntimeError(f\"No hay suficiente agua para {astronauts} astronautas\")\n",
    "    return f\"Agual total despues de {days_left} dias es: {total_water_left} litros\"\n",
    "\n",
    "def alert_navigation_system(err):\n",
    "    print(err)\n",
    "\n",
    "try:\n",
    "    print(water_left(5, 100, 2))\n",
    "except RuntimeError as err:\n",
    "    alert_navigation_system(err)"
   ]
  },
  {
   "cell_type": "code",
   "execution_count": 32,
   "metadata": {},
   "outputs": [
    {
     "ename": "TypeError",
     "evalue": "can't multiply sequence by non-int of type 'NoneType'",
     "output_type": "error",
     "traceback": [
      "\u001b[0;31m---------------------------------------------------------------------------\u001b[0m",
      "\u001b[0;31mTypeError\u001b[0m                                 Traceback (most recent call last)",
      "\u001b[1;32m/Users/rojaslcc/launchx/KatasPythonLuanchX/Modulo 10/Homework1Modulo10Katas.ipynb Cell 22'\u001b[0m in \u001b[0;36m<module>\u001b[0;34m\u001b[0m\n\u001b[1;32m     <a href='vscode-notebook-cell:/Users/rojaslcc/launchx/KatasPythonLuanchX/Modulo%2010/Homework1Modulo10Katas.ipynb#ch0000021?line=9'>10</a>\u001b[0m     \u001b[39mprint\u001b[39m(err)\n\u001b[1;32m     <a href='vscode-notebook-cell:/Users/rojaslcc/launchx/KatasPythonLuanchX/Modulo%2010/Homework1Modulo10Katas.ipynb#ch0000021?line=11'>12</a>\u001b[0m \u001b[39mtry\u001b[39;00m:\n\u001b[0;32m---> <a href='vscode-notebook-cell:/Users/rojaslcc/launchx/KatasPythonLuanchX/Modulo%2010/Homework1Modulo10Katas.ipynb#ch0000021?line=12'>13</a>\u001b[0m     \u001b[39mprint\u001b[39m(water_left(\u001b[39m\"\u001b[39;49m\u001b[39m5\u001b[39;49m\u001b[39m\"\u001b[39;49m, \u001b[39m\"\u001b[39;49m\u001b[39m100\u001b[39;49m\u001b[39m\"\u001b[39;49m, \u001b[39mNone\u001b[39;49;00m))\n\u001b[1;32m     <a href='vscode-notebook-cell:/Users/rojaslcc/launchx/KatasPythonLuanchX/Modulo%2010/Homework1Modulo10Katas.ipynb#ch0000021?line=13'>14</a>\u001b[0m \u001b[39mexcept\u001b[39;00m \u001b[39mRuntimeError\u001b[39;00m \u001b[39mas\u001b[39;00m err:\n\u001b[1;32m     <a href='vscode-notebook-cell:/Users/rojaslcc/launchx/KatasPythonLuanchX/Modulo%2010/Homework1Modulo10Katas.ipynb#ch0000021?line=14'>15</a>\u001b[0m     alert_navigation_system(err)\n",
      "\u001b[1;32m/Users/rojaslcc/launchx/KatasPythonLuanchX/Modulo 10/Homework1Modulo10Katas.ipynb Cell 22'\u001b[0m in \u001b[0;36mwater_left\u001b[0;34m(astronauts, water_left, days_left)\u001b[0m\n\u001b[1;32m      <a href='vscode-notebook-cell:/Users/rojaslcc/launchx/KatasPythonLuanchX/Modulo%2010/Homework1Modulo10Katas.ipynb#ch0000021?line=0'>1</a>\u001b[0m \u001b[39mdef\u001b[39;00m \u001b[39mwater_left\u001b[39m(astronauts, water_left, days_left):\n\u001b[1;32m      <a href='vscode-notebook-cell:/Users/rojaslcc/launchx/KatasPythonLuanchX/Modulo%2010/Homework1Modulo10Katas.ipynb#ch0000021?line=1'>2</a>\u001b[0m     daily_usage \u001b[39m=\u001b[39m astronauts \u001b[39m*\u001b[39m \u001b[39m11\u001b[39m\n\u001b[0;32m----> <a href='vscode-notebook-cell:/Users/rojaslcc/launchx/KatasPythonLuanchX/Modulo%2010/Homework1Modulo10Katas.ipynb#ch0000021?line=2'>3</a>\u001b[0m     total_usage \u001b[39m=\u001b[39m daily_usage \u001b[39m*\u001b[39;49m days_left\n\u001b[1;32m      <a href='vscode-notebook-cell:/Users/rojaslcc/launchx/KatasPythonLuanchX/Modulo%2010/Homework1Modulo10Katas.ipynb#ch0000021?line=3'>4</a>\u001b[0m     total_water_left \u001b[39m=\u001b[39m water_left \u001b[39m-\u001b[39m total_usage\n\u001b[1;32m      <a href='vscode-notebook-cell:/Users/rojaslcc/launchx/KatasPythonLuanchX/Modulo%2010/Homework1Modulo10Katas.ipynb#ch0000021?line=4'>5</a>\u001b[0m     \u001b[39mif\u001b[39;00m (total_water_left \u001b[39m<\u001b[39m \u001b[39m0\u001b[39m):\n",
      "\u001b[0;31mTypeError\u001b[0m: can't multiply sequence by non-int of type 'NoneType'"
     ]
    }
   ],
   "source": [
    "def water_left(astronauts, water_left, days_left):\n",
    "    daily_usage = astronauts * 11\n",
    "    total_usage = daily_usage * days_left\n",
    "    total_water_left = water_left - total_usage\n",
    "    if (total_water_left < 0):\n",
    "        raise RuntimeError(f\"No hay suficiente agua para {astronauts} astronautas\")\n",
    "    return f\"Agual total despues de {days_left} dias es: {total_water_left} litros\"\n",
    "\n",
    "def alert_navigation_system(err):\n",
    "    print(err)\n",
    "\n",
    "try:\n",
    "    print(water_left(\"5\", \"100\", None))\n",
    "except RuntimeError as err:\n",
    "    alert_navigation_system(err)"
   ]
  },
  {
   "cell_type": "code",
   "execution_count": 33,
   "metadata": {},
   "outputs": [
    {
     "ename": "TypeError",
     "evalue": "Todos los argumentos deben ser enteros, pero ser recibieron: '5'",
     "output_type": "error",
     "traceback": [
      "\u001b[0;31m---------------------------------------------------------------------------\u001b[0m",
      "\u001b[0;31mTypeError\u001b[0m                                 Traceback (most recent call last)",
      "\u001b[1;32m/Users/rojaslcc/launchx/KatasPythonLuanchX/Modulo 10/Homework1Modulo10Katas.ipynb Cell 23'\u001b[0m in \u001b[0;36mwater_left\u001b[0;34m(astronauts, water_left, days_left)\u001b[0m\n\u001b[1;32m      <a href='vscode-notebook-cell:/Users/rojaslcc/launchx/KatasPythonLuanchX/Modulo%2010/Homework1Modulo10Katas.ipynb#ch0000022?line=2'>3</a>\u001b[0m \u001b[39mtry\u001b[39;00m:\n\u001b[0;32m----> <a href='vscode-notebook-cell:/Users/rojaslcc/launchx/KatasPythonLuanchX/Modulo%2010/Homework1Modulo10Katas.ipynb#ch0000022?line=3'>4</a>\u001b[0m     argument \u001b[39m/\u001b[39;49m \u001b[39m10\u001b[39;49m\n\u001b[1;32m      <a href='vscode-notebook-cell:/Users/rojaslcc/launchx/KatasPythonLuanchX/Modulo%2010/Homework1Modulo10Katas.ipynb#ch0000022?line=4'>5</a>\u001b[0m \u001b[39mexcept\u001b[39;00m \u001b[39mTypeError\u001b[39;00m:\n",
      "\u001b[0;31mTypeError\u001b[0m: unsupported operand type(s) for /: 'str' and 'int'",
      "\nDuring handling of the above exception, another exception occurred:\n",
      "\u001b[0;31mTypeError\u001b[0m                                 Traceback (most recent call last)",
      "\u001b[1;32m/Users/rojaslcc/launchx/KatasPythonLuanchX/Modulo 10/Homework1Modulo10Katas.ipynb Cell 23'\u001b[0m in \u001b[0;36m<module>\u001b[0;34m\u001b[0m\n\u001b[1;32m     <a href='vscode-notebook-cell:/Users/rojaslcc/launchx/KatasPythonLuanchX/Modulo%2010/Homework1Modulo10Katas.ipynb#ch0000022?line=14'>15</a>\u001b[0m     \u001b[39mprint\u001b[39m(err)\n\u001b[1;32m     <a href='vscode-notebook-cell:/Users/rojaslcc/launchx/KatasPythonLuanchX/Modulo%2010/Homework1Modulo10Katas.ipynb#ch0000022?line=16'>17</a>\u001b[0m \u001b[39mtry\u001b[39;00m:\n\u001b[0;32m---> <a href='vscode-notebook-cell:/Users/rojaslcc/launchx/KatasPythonLuanchX/Modulo%2010/Homework1Modulo10Katas.ipynb#ch0000022?line=17'>18</a>\u001b[0m     \u001b[39mprint\u001b[39m(water_left(\u001b[39m\"\u001b[39;49m\u001b[39m5\u001b[39;49m\u001b[39m\"\u001b[39;49m, \u001b[39m\"\u001b[39;49m\u001b[39m100\u001b[39;49m\u001b[39m\"\u001b[39;49m, \u001b[39mNone\u001b[39;49;00m))\n\u001b[1;32m     <a href='vscode-notebook-cell:/Users/rojaslcc/launchx/KatasPythonLuanchX/Modulo%2010/Homework1Modulo10Katas.ipynb#ch0000022?line=18'>19</a>\u001b[0m \u001b[39mexcept\u001b[39;00m \u001b[39mRuntimeError\u001b[39;00m \u001b[39mas\u001b[39;00m err:\n\u001b[1;32m     <a href='vscode-notebook-cell:/Users/rojaslcc/launchx/KatasPythonLuanchX/Modulo%2010/Homework1Modulo10Katas.ipynb#ch0000022?line=19'>20</a>\u001b[0m     alert_navigation_system(err)\n",
      "\u001b[1;32m/Users/rojaslcc/launchx/KatasPythonLuanchX/Modulo 10/Homework1Modulo10Katas.ipynb Cell 23'\u001b[0m in \u001b[0;36mwater_left\u001b[0;34m(astronauts, water_left, days_left)\u001b[0m\n\u001b[1;32m      <a href='vscode-notebook-cell:/Users/rojaslcc/launchx/KatasPythonLuanchX/Modulo%2010/Homework1Modulo10Katas.ipynb#ch0000022?line=3'>4</a>\u001b[0m         argument \u001b[39m/\u001b[39m \u001b[39m10\u001b[39m\n\u001b[1;32m      <a href='vscode-notebook-cell:/Users/rojaslcc/launchx/KatasPythonLuanchX/Modulo%2010/Homework1Modulo10Katas.ipynb#ch0000022?line=4'>5</a>\u001b[0m     \u001b[39mexcept\u001b[39;00m \u001b[39mTypeError\u001b[39;00m:\n\u001b[0;32m----> <a href='vscode-notebook-cell:/Users/rojaslcc/launchx/KatasPythonLuanchX/Modulo%2010/Homework1Modulo10Katas.ipynb#ch0000022?line=5'>6</a>\u001b[0m         \u001b[39mraise\u001b[39;00m \u001b[39mTypeError\u001b[39;00m(\u001b[39mf\u001b[39m\u001b[39m\"\u001b[39m\u001b[39mTodos los argumentos deben ser enteros, pero ser recibieron: \u001b[39m\u001b[39m'\u001b[39m\u001b[39m{\u001b[39;00margument\u001b[39m}\u001b[39;00m\u001b[39m'\u001b[39m\u001b[39m\"\u001b[39m)\n\u001b[1;32m      <a href='vscode-notebook-cell:/Users/rojaslcc/launchx/KatasPythonLuanchX/Modulo%2010/Homework1Modulo10Katas.ipynb#ch0000022?line=6'>7</a>\u001b[0m daily_usage \u001b[39m=\u001b[39m astronauts \u001b[39m*\u001b[39m \u001b[39m11\u001b[39m\n\u001b[1;32m      <a href='vscode-notebook-cell:/Users/rojaslcc/launchx/KatasPythonLuanchX/Modulo%2010/Homework1Modulo10Katas.ipynb#ch0000022?line=7'>8</a>\u001b[0m total_usage \u001b[39m=\u001b[39m daily_usage \u001b[39m*\u001b[39m days_left\n",
      "\u001b[0;31mTypeError\u001b[0m: Todos los argumentos deben ser enteros, pero ser recibieron: '5'"
     ]
    }
   ],
   "source": [
    "def water_left(astronauts, water_left, days_left):\n",
    "    for argument in [astronauts, water_left, days_left]:\n",
    "        try:\n",
    "            argument / 10\n",
    "        except TypeError:\n",
    "            raise TypeError(f\"Todos los argumentos deben ser enteros, pero ser recibieron: '{argument}'\")\n",
    "    daily_usage = astronauts * 11\n",
    "    total_usage = daily_usage * days_left\n",
    "    total_water_left = water_left - total_usage\n",
    "    if (total_water_left < 0):\n",
    "        raise RuntimeError(f\"No hay suficiente agua para {astronauts} astronautas\")\n",
    "    return f\"Agual total despues de {days_left} dias es: {total_water_left} litros\"\n",
    "\n",
    "def alert_navigation_system(err):\n",
    "    print(err)\n",
    "\n",
    "try:\n",
    "    print(water_left(\"5\", \"100\", None))\n",
    "except RuntimeError as err:\n",
    "    alert_navigation_system(err)"
   ]
  },
  {
   "cell_type": "code",
   "execution_count": 35,
   "metadata": {},
   "outputs": [
    {
     "name": "stdout",
     "output_type": "stream",
     "text": [
      "Todos los argumentos deben ser enteros, pero ser recibió un <class 'str'>: '5'\n"
     ]
    }
   ],
   "source": [
    "def water_left(astronauts, water_left, days_left):\n",
    "    for argument in [astronauts, water_left, days_left]:\n",
    "        try:\n",
    "            argument / 10\n",
    "        except TypeError:\n",
    "            raise TypeError(f\"Todos los argumentos deben ser enteros, pero ser recibió un {type(argument)}: '{argument}'\")\n",
    "    daily_usage = astronauts * 11\n",
    "    total_usage = daily_usage * days_left\n",
    "    total_water_left = water_left - total_usage\n",
    "    if (total_water_left < 0):\n",
    "        raise RuntimeError(f\"No hay suficiente agua para {astronauts} astronautas\")\n",
    "    return f\"Agual total despues de {days_left} dias es: {total_water_left} litros\"\n",
    "\n",
    "def alert_navigation_system(err):\n",
    "    print(err)\n",
    "\n",
    "try:\n",
    "    print(water_left(\"5\", \"100\", None))\n",
    "except RuntimeError as err:\n",
    "    alert_navigation_system(err)\n",
    "except TypeError as err:\n",
    "    alert_navigation_system(err)"
   ]
  },
  {
   "cell_type": "markdown",
   "metadata": {},
   "source": [
    "<em>Katas 1 Modulo 10: Lic. Jesus Humberto Rojas Rangel\n",
    "<br/> Fecha: 2022/02/12</em>\n",
    "\n",
    "Mis Redes:\n",
    "* GitHub: [rojaslcc](https://www.github.com/rojaslcc/)\n",
    "* Linkedin: [rojaslcc](https://www.linkedin.com/in/rojaslcc/)\n",
    "* Twitter: [@rojaslcc](https://www.twitter.com/rojaslcc/)\n",
    "* Instagram: [rojaslcc](https://www.instagram.com/rojaslcc/)"
   ]
  }
 ],
 "metadata": {
  "interpreter": {
   "hash": "aee8b7b246df8f9039afb4144a1f6fd8d2ca17a180786b69acc140d282b71a49"
  },
  "kernelspec": {
   "display_name": "Python 3.10.2 64-bit",
   "language": "python",
   "name": "python3"
  },
  "language_info": {
   "codemirror_mode": {
    "name": "ipython",
    "version": 3
   },
   "file_extension": ".py",
   "mimetype": "text/x-python",
   "name": "python",
   "nbconvert_exporter": "python",
   "pygments_lexer": "ipython3",
   "version": "3.10.2"
  },
  "orig_nbformat": 4
 },
 "nbformat": 4,
 "nbformat_minor": 2
}
