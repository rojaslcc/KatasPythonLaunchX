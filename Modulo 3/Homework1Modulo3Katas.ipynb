{
 "cells": [
  {
   "cell_type": "markdown",
   "metadata": {},
   "source": [
    "<h1>EJERCICIO NO. 1</h1>\n",
    "<h3>Velocidad asteroide: 45 km/s</h3>\n",
    "<h3>Advertencia a partir de: 26 km/s<h3>"
   ]
  },
  {
   "cell_type": "code",
   "execution_count": 4,
   "metadata": {},
   "outputs": [
    {
     "name": "stdout",
     "output_type": "stream",
     "text": [
      "¡Cuidado! Un asteroide se acerca a 45 km/s!!!\n"
     ]
    }
   ],
   "source": [
    "velAsteroide = 45\n",
    "\n",
    "if (velAsteroide > 25):\n",
    "    print(\"¡Cuidado! Un asteroide se acerca a \" + str(velAsteroide) + \" km/s!!!\")\n",
    "else:\n",
    "    print(\"Todo en orden!\")"
   ]
  },
  {
   "cell_type": "markdown",
   "metadata": {},
   "source": [
    "<h1>EJERCICIO NO. 2</h1>\n",
    "<h3>Velocidad asteroide: 19 km/s</h3>\n",
    "<h3>Advertencia a partir de: 20 km/s<h3>"
   ]
  },
  {
   "cell_type": "code",
   "execution_count": 5,
   "metadata": {},
   "outputs": [
    {
     "name": "stdout",
     "output_type": "stream",
     "text": [
      "Nada nuevo por aquí\n"
     ]
    }
   ],
   "source": [
    "velAsteroide = 19\n",
    "\n",
    "if (velAsteroide >= 20):\n",
    "    print(\"¡Atento!, ¡Mira una luz en el cielo!\")\n",
    "else:\n",
    "    print(\"Nada nuevo por aquí\")"
   ]
  },
  {
   "cell_type": "markdown",
   "metadata": {},
   "source": [
    "<h1>EJERCICIO NO. 3</h1>\n",
    "<h3>Velocidad asteroide: 25 km/s</h3>\n",
    "<h3>Tamaño asteroide: 40</h3>\n",
    "<h3>Advertencia a partir de (Asteroide peligroso): 26 km/s y tamaño 26<h3>\n",
    "<h3>Advertencia a partir de (Luz en el cielo): 20 km/s<h3>"
   ]
  },
  {
   "cell_type": "code",
   "execution_count": 6,
   "metadata": {},
   "outputs": [
    {
     "name": "stdout",
     "output_type": "stream",
     "text": [
      "¡Atento!, ¡Mira una luz en el cielo!\n"
     ]
    }
   ],
   "source": [
    "# Variables\n",
    "velAsteroide = 25\n",
    "tamAsteroide = 40\n",
    "\n",
    "# Constantes\n",
    "VEL_ADV_AST_PEL = 25\n",
    "TAM_ADV_AST_PEL = 25\n",
    "VEL_ADV_AST_LUZ = 20\n",
    "\n",
    "if (velAsteroide > VEL_ADV_AST_PEL and tamAsteroide > TAM_ADV_AST_PEL):\n",
    "    print(\"¡Cuidado! Un asteroide se acerca a \" + str(velAsteroide) + \" km/s y tamaño \" + str(tamAsteroide) + \"!!!\")\n",
    "elif (velAsteroide >= VEL_ADV_AST_LUZ):\n",
    "    print(\"¡Atento!, ¡Mira una luz en el cielo!\")\n",
    "elif (velAsteroide < VEL_ADV_AST_PEL):\n",
    "    print(\"Nada nuevo por aquí\")\n",
    "else:\n",
    "    print(\"Nada nuevo por aquí\")"
   ]
  },
  {
   "cell_type": "markdown",
   "metadata": {},
   "source": [
    "<em>Katas 1 Modulo 3: Lic. Jesus Humberto Rojas Rangel\n",
    "<br/> Fecha: 2022/02/11</em>\n",
    "\n",
    "Mis Redes:\n",
    "* GitHub: [rojaslcc](https://www.github.com/rojaslcc/)\n",
    "* Linkedin: [rojaslcc](https://www.linkedin.com/in/rojaslcc/)\n",
    "* Twitter: [@rojaslcc](https://www.twitter.com/rojaslcc/)\n",
    "* Instagram: [rojaslcc](https://www.instagram.com/rojaslcc/)"
   ]
  }
 ],
 "metadata": {
  "interpreter": {
   "hash": "aee8b7b246df8f9039afb4144a1f6fd8d2ca17a180786b69acc140d282b71a49"
  },
  "kernelspec": {
   "display_name": "Python 3.10.2 64-bit",
   "language": "python",
   "name": "python3"
  },
  "language_info": {
   "codemirror_mode": {
    "name": "ipython",
    "version": 3
   },
   "file_extension": ".py",
   "mimetype": "text/x-python",
   "name": "python",
   "nbconvert_exporter": "python",
   "pygments_lexer": "ipython3",
   "version": "3.10.2"
  },
  "orig_nbformat": 4
 },
 "nbformat": 4,
 "nbformat_minor": 2
}
