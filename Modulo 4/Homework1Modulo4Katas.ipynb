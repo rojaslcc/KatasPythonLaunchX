{
 "cells": [
  {
   "cell_type": "markdown",
   "metadata": {},
   "source": [
    "<h1>EJERCICIO NO.1</h1>"
   ]
  },
  {
   "cell_type": "code",
   "execution_count": 12,
   "metadata": {},
   "outputs": [
    {
     "name": "stdout",
     "output_type": "stream",
     "text": [
      "Interesting facts about the Moon. \n",
      "\n",
      "The Moon is Earth's only satellite. \n",
      "\n",
      "There are several interesting facts about the Moon and how it affects life here on Earth. \n",
      "\n",
      "On average, the Moon moves 4cm away from the Earth every year. \n",
      "\n",
      "This yearly drift is not significant enough to cause immediate effects on Earth. \n",
      "\n",
      "The highest daylight temperature of the Moon is 127 C.\n",
      "\n",
      "Hecho: \n",
      "On average, the Moon moves 4cm away from the Earth every year.\n",
      "Hecho: \n",
      "The highest daylight temperature of the Moon is 127 C.\n",
      "Hecho sin reemplazo C por CELCIUS: \n",
      "On average, the Moon moves 4cm away from the Earth every year.\n",
      "Hecho reemplazando C por CELCIUS: \n",
      "The highest daylight temperature of the Moon is 127 CELCIUS.\n"
     ]
    }
   ],
   "source": [
    "# Texto del ejercicio\n",
    "text = \"\"\"Interesting facts about the Moon. The Moon is Earth's only satellite. There are several interesting facts about the Moon and how it affects life here on Earth. On average, the Moon moves 4cm away from the Earth every year. This yearly drift is not significant enough to cause immediate effects on Earth. The highest daylight temperature of the Moon is 127 C.\"\"\"\n",
    "\n",
    "# Constantes\n",
    "CELCIUS = \"C\"\n",
    "CELCIUS_TXT = \"CELCIUS\"\n",
    "PUNTO = \".\"\n",
    "\n",
    "# Split para separa oraciones\n",
    "oraciones = text.split(\". \")\n",
    "\n",
    "# Mostrando la oraciones\n",
    "for oracion in oraciones:\n",
    "    if (PUNTO in oracion):\n",
    "        print(oracion + \"\\n\")\n",
    "    else:\n",
    "        print(oracion + \". \\n\")\n",
    "\n",
    "# Palabras clave para los hechos\n",
    "palabrasClave = [\"average\", \"temperature\", \"distance\"]\n",
    "\n",
    "# Buscando los hechos\n",
    "for oracion in oraciones:\n",
    "    for palabra in palabrasClave:\n",
    "        if (palabra in oracion):\n",
    "            if (PUNTO in oracion):\n",
    "                print(\"Hecho: \\n\" + oracion)\n",
    "            else:\n",
    "                print(\"Hecho: \\n\" + oracion + \".\")\n",
    "\n",
    "# Cambiando C por Celcius\n",
    "for oracion in oraciones:\n",
    "    for palabra in palabrasClave:\n",
    "        if (palabra in oracion):\n",
    "            if (PUNTO not in oracion):\n",
    "                oracion = oracion + \".\"\n",
    "            if (CELCIUS in oracion):\n",
    "                print(\"Hecho reemplazando C por CELCIUS: \\n\" + oracion.replace(CELCIUS, CELCIUS_TXT))\n",
    "            else:\n",
    "                print(\"Hecho sin reemplazo C por CELCIUS: \\n\" + oracion)"
   ]
  },
  {
   "cell_type": "markdown",
   "metadata": {},
   "source": [
    "<h1>EJERCICIO NO.2</h1>"
   ]
  },
  {
   "cell_type": "code",
   "execution_count": 15,
   "metadata": {},
   "outputs": [
    {
     "name": "stdout",
     "output_type": "stream",
     "text": [
      "-------------------------------------------------------------------------------- \n",
      "Nombre del planeta: Earth \n",
      "Gravedad en Moon: 1.6199999999999999 m/s2 \n",
      "\n",
      "\n",
      "Datos de Gravedad sobre: Ganímedes\n",
      "-------------------------------------------------------------------------------\n",
      "Nombre del planeta: Marte \n",
      "Gravedad en Ganímedes: 1.4300000000000002 m/s2\n",
      "\n"
     ]
    }
   ],
   "source": [
    "# Datos del ejercicio\n",
    "name = \"Moon\"\n",
    "gravity = 0.00162 # en KMS\n",
    "planet = \"Earth\"\n",
    "\n",
    "# Nuevos datos del ejercicio\n",
    "planeta = 'Marte '\n",
    "gravedad  = 0.00143\n",
    "nombre = 'Ganímedes'\n",
    "\n",
    "# Constantes\n",
    "REP_CHARACTER = 80\n",
    "MULT_GRAVITY = 1000\n",
    "\n",
    "# Titulo\n",
    "titulo = f\"Datos de gravedad sobre {name}\"\n",
    "\n",
    "# Plantilla\n",
    "hechos = f\"\"\"{'-' * REP_CHARACTER} \n",
    "Nombre del planeta: {planet} \n",
    "Gravedad en {name}: {gravity * MULT_GRAVITY} m/s2 \n",
    "\"\"\"\n",
    "\n",
    "# Union\n",
    "template = f\"\"\"{titulo.title()} \n",
    "{hechos} \n",
    "\"\"\" \n",
    "print(hechos)\n",
    "\n",
    "# Nueva plantilla\n",
    "new_template = \"\"\"\n",
    "Datos de Gravedad sobre: {nombre}\n",
    "-------------------------------------------------------------------------------\n",
    "Nombre del planeta: {planeta}\n",
    "Gravedad en {nombre}: {gravedad} m/s2\n",
    "\"\"\"\n",
    "print(new_template.format(nombre=nombre, planeta=planeta, gravedad=gravedad * MULT_GRAVITY))"
   ]
  },
  {
   "cell_type": "markdown",
   "metadata": {},
   "source": [
    "<em>Katas 1 Modulo 4: Lic. Jesus Humberto Rojas Rangel\n",
    "<br/> Fecha: 2022/02/11</em>\n",
    "\n",
    "Mis Redes:\n",
    "* GitHub: [rojaslcc](https://www.github.com/rojaslcc/)\n",
    "* Linkedin: [rojaslcc](https://www.linkedin.com/in/rojaslcc/)\n",
    "* Twitter: [@rojaslcc](https://www.twitter.com/rojaslcc/)\n",
    "* Instagram: [rojaslcc](https://www.instagram.com/rojaslcc/)"
   ]
  }
 ],
 "metadata": {
  "interpreter": {
   "hash": "aee8b7b246df8f9039afb4144a1f6fd8d2ca17a180786b69acc140d282b71a49"
  },
  "kernelspec": {
   "display_name": "Python 3.10.2 64-bit",
   "language": "python",
   "name": "python3"
  },
  "language_info": {
   "codemirror_mode": {
    "name": "ipython",
    "version": 3
   },
   "file_extension": ".py",
   "mimetype": "text/x-python",
   "name": "python",
   "nbconvert_exporter": "python",
   "pygments_lexer": "ipython3",
   "version": "3.10.2"
  },
  "orig_nbformat": 4
 },
 "nbformat": 4,
 "nbformat_minor": 2
}
