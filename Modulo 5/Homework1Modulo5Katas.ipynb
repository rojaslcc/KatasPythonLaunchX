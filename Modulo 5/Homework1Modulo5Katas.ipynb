{
 "cells": [
  {
   "cell_type": "markdown",
   "metadata": {},
   "source": [
    "<h1>EJERCICIO NO.1</h1>"
   ]
  },
  {
   "cell_type": "code",
   "execution_count": 24,
   "metadata": {},
   "outputs": [
    {
     "name": "stdout",
     "output_type": "stream",
     "text": [
      "\n",
      "Distancia entre planetas\n",
      "-------------------------------------------------------------------------------\n",
      "Planeta 1: 149,597,870 km\n",
      "Planeta 2: 778,547,200 km\n",
      "Distancia entre Planeta 1 y 2 en Kilometros: 628,949,330 km\n",
      "Distancia entre Planeta 1 y 2 en Millas: 390,577,533.93 mi\n",
      "\n"
     ]
    }
   ],
   "source": [
    "# Variables\n",
    "firstPlanet = 149597870\n",
    "secondPlanet = 778547200\n",
    "\n",
    "# Constantes\n",
    "MI_X_KM = 0.621\n",
    "\n",
    "# Calculos\n",
    "#   Dist. en Kilometros\n",
    "distanceKm = abs(secondPlanet - firstPlanet)\n",
    "#   Dist. en Millas\n",
    "distanceMi = distanceKm * MI_X_KM\n",
    "\n",
    "# Mostrar resultados\n",
    "template = \"\"\"\n",
    "Distancia entre planetas\n",
    "-------------------------------------------------------------------------------\n",
    "Planeta 1: {firstPlanet} km\n",
    "Planeta 2: {secondPlanet} km\n",
    "Distancia entre Planeta 1 y 2 en Kilometros: {distanceKm} km\n",
    "Distancia entre Planeta 1 y 2 en Millas: {distanceMi} mi\n",
    "\"\"\"\n",
    "print(template.format(firstPlanet=format(firstPlanet, \",\"), secondPlanet=format(secondPlanet, \",\"), distanceKm=format(distanceKm, \",\"), distanceMi=format(distanceMi, \",\")))"
   ]
  },
  {
   "cell_type": "markdown",
   "metadata": {},
   "source": [
    "<h1>EJERCICIO NO.2</h1>"
   ]
  },
  {
   "cell_type": "code",
   "execution_count": 28,
   "metadata": {},
   "outputs": [
    {
     "name": "stdout",
     "output_type": "stream",
     "text": [
      "[ERROR: DISTANCIA DE PLANETA 1 NO ES VALIDA]\n",
      "[ERROR: DISTANCIA DE PLANETA 2 NO ES VALIDA]\n",
      "\n",
      "Distancia entre planetas\n",
      "-------------------------------------------------------------------------------\n",
      "Planeta 1: 2,525.25 km\n",
      "Planeta 2: 121,212 km\n",
      "Distancia entre Planeta 1 y 2 en Kilometros: 118,686.75 km\n",
      "Distancia entre Planeta 1 y 2 en Millas: 73,704.47175 mi\n",
      "\n"
     ]
    }
   ],
   "source": [
    "# Variables\n",
    "firstPlanet = 0\n",
    "secondPlanet = 0\n",
    "bandera = True\n",
    "\n",
    "# Constantes\n",
    "MI_X_KM = 0.621\n",
    "PUNTO = \".\"\n",
    "\n",
    "# Validando datos de entrada\n",
    "while (bandera):\n",
    "    try:\n",
    "        if (firstPlanet == 0):\n",
    "            firstPlanet = input(\"Distancia del sol para primer planeta en KM: \")\n",
    "        if (PUNTO in str(firstPlanet)):\n",
    "            firstPlanet = float(firstPlanet)\n",
    "        else:\n",
    "            firstPlanet = int(firstPlanet)\n",
    "        try:\n",
    "            if (secondPlanet == 0):\n",
    "                secondPlanet = input(\"Distancia del sol para segundo planeta en KM: \")\n",
    "            if (PUNTO in str(secondPlanet)):\n",
    "                secondPlanet = float(secondPlanet)\n",
    "            else:\n",
    "                secondPlanet = int(secondPlanet)\n",
    "            bandera = False\n",
    "        except ValueError:\n",
    "            try:\n",
    "                if (PUNTO in str(secondPlanet)):\n",
    "                    secondPlanet = float(secondPlanet)\n",
    "                else:\n",
    "                    secondPlanet = int(secondPlanet)\n",
    "                bandera = False\n",
    "            except ValueError:\n",
    "                print(\"[ERROR: DISTANCIA DE PLANETA 2 NO ES VALIDA]\")\n",
    "                secondPlanet = 0\n",
    "                bandera = True\n",
    "    except ValueError:\n",
    "        try:\n",
    "            if (PUNTO in str(firstPlanet)):\n",
    "                firstPlanet = float(firstPlanet)\n",
    "            else:\n",
    "                firstPlanet = int(firstPlanet)\n",
    "            try:\n",
    "                if (secondPlanet == 0):\n",
    "                    secondPlanet = input(\"Distancia del sol para segundo planeta en KM: \")\n",
    "                if (PUNTO in str(secondPlanet)):\n",
    "                    secondPlanet = float(secondPlanet)\n",
    "                else:\n",
    "                    secondPlanet = int(secondPlanet)\n",
    "                bandera = False\n",
    "            except ValueError:\n",
    "                print(\"[ERROR: DISTANCIA DE PLANETA 2 NO ES VALIDA]\")\n",
    "                secondPlanet = 0\n",
    "                bandera = True\n",
    "        except ValueError:\n",
    "            print(\"[ERROR: DISTANCIA DE PLANETA 1 NO ES VALIDA]\")\n",
    "            firstPlanet = 0\n",
    "            bandera = True\n",
    "\n",
    "# Calculos\n",
    "#   Dist. en Kilometros\n",
    "distanceKm = abs(secondPlanet - firstPlanet)\n",
    "#   Dist. en Millas\n",
    "distanceMi = distanceKm * MI_X_KM\n",
    "\n",
    "# Mostrar resultados\n",
    "template = \"\"\"\n",
    "Distancia entre planetas\n",
    "-------------------------------------------------------------------------------\n",
    "Planeta 1: {firstPlanet} km\n",
    "Planeta 2: {secondPlanet} km\n",
    "Distancia entre Planeta 1 y 2 en Kilometros: {distanceKm} km\n",
    "Distancia entre Planeta 1 y 2 en Millas: {distanceMi} mi\n",
    "\"\"\"\n",
    "print(template.format(firstPlanet=format(firstPlanet, \",\"), secondPlanet=format(secondPlanet, \",\"), distanceKm=format(distanceKm, \",\"), distanceMi=format(distanceMi, \",\")))\n"
   ]
  },
  {
   "cell_type": "markdown",
   "metadata": {},
   "source": [
    "<em>Katas 1 Modulo 5: Lic. Jesus Humberto Rojas Rangel\n",
    "<br/> Fecha: 2022/02/11</em>\n",
    "\n",
    "Mis Redes:\n",
    "* GitHub: [rojaslcc](https://www.github.com/rojaslcc/)\n",
    "* Linkedin: [rojaslcc](https://www.linkedin.com/in/rojaslcc/)\n",
    "* Twitter: [@rojaslcc](https://www.twitter.com/rojaslcc/)\n",
    "* Instagram: [rojaslcc](https://www.instagram.com/rojaslcc/)"
   ]
  }
 ],
 "metadata": {
  "interpreter": {
   "hash": "aee8b7b246df8f9039afb4144a1f6fd8d2ca17a180786b69acc140d282b71a49"
  },
  "kernelspec": {
   "display_name": "Python 3.10.2 64-bit",
   "language": "python",
   "name": "python3"
  },
  "language_info": {
   "codemirror_mode": {
    "name": "ipython",
    "version": 3
   },
   "file_extension": ".py",
   "mimetype": "text/x-python",
   "name": "python",
   "nbconvert_exporter": "python",
   "pygments_lexer": "ipython3",
   "version": "3.10.2"
  },
  "orig_nbformat": 4
 },
 "nbformat": 4,
 "nbformat_minor": 2
}
