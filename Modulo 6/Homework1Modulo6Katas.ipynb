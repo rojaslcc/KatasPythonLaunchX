{
 "cells": [
  {
   "cell_type": "markdown",
   "metadata": {},
   "source": [
    "<h1>EJERCICIO NO.1</h1>"
   ]
  },
  {
   "cell_type": "code",
   "execution_count": 4,
   "metadata": {},
   "outputs": [
    {
     "name": "stdout",
     "output_type": "stream",
     "text": [
      "Hay 8 planetas\n",
      "Pluto es el utlimo planeta\n"
     ]
    }
   ],
   "source": [
    "# Lista\n",
    "planets = [\"Mercury\", \"Venus\", \"Earth\", \"Mars\", \"Jupiter\", \"Saturn\", \"Uranus\", \"Neptune\"]\n",
    "\n",
    "# Cuantos planetas hay en la lista\n",
    "print(\"Hay\", len(planets), \"planetas\")\n",
    "\n",
    "# Agregamos a pluton\n",
    "planets.append(\"Pluto\")\n",
    "\n",
    "# Mostramos el ultimo elemento de la lista\n",
    "print(planets[len(planets)-1], \"es el utlimo planeta\")"
   ]
  },
  {
   "cell_type": "markdown",
   "metadata": {},
   "source": [
    "<h1>EJERCICIO NO.2</h1>"
   ]
  },
  {
   "cell_type": "code",
   "execution_count": 10,
   "metadata": {},
   "outputs": [
    {
     "name": "stdout",
     "output_type": "stream",
     "text": [
      "Planetas cercanos a Earth: \n",
      "['Mercury', 'Venus']\n",
      "Planetas lejanos a Earth: \n",
      "['Mars', 'Jupiter', 'Saturn', 'Uranus']\n"
     ]
    }
   ],
   "source": [
    "# Variables\n",
    "index = 0\n",
    "\n",
    "# Lista\n",
    "planets = [\"Mercury\", \"Venus\", \"Earth\", \"Mars\", \"Jupiter\", \"Saturn\", \"Uranus\", \"Neptune\"]\n",
    "\n",
    "# Captura de dato\n",
    "userPlanet = input(\"Diga un planeta (ingles): \")\n",
    "\n",
    "# Buscamos el planeta y mostramos los datos\n",
    "for planet in planets:\n",
    "    if (userPlanet.upper() in planet.upper()):\n",
    "        print(\"Planetas cercanos a \" + userPlanet + \": \\n\" + str(planets[0:index]))\n",
    "        print(\"Planetas lejanos a \" + userPlanet + \": \\n\" + str(planets[index+1:len(planets)-1]))\n",
    "    index += 1\n"
   ]
  },
  {
   "cell_type": "markdown",
   "metadata": {},
   "source": [
    "<em>Katas 1 Modulo 6: Lic. Jesus Humberto Rojas Rangel\n",
    "<br/> Fecha: 2022/02/11</em>\n",
    "\n",
    "Mis Redes:\n",
    "* GitHub: [rojaslcc](https://www.github.com/rojaslcc/)\n",
    "* Linkedin: [rojaslcc](https://www.linkedin.com/in/rojaslcc/)\n",
    "* Twitter: [@rojaslcc](https://www.twitter.com/rojaslcc/)\n",
    "* Instagram: [rojaslcc](https://www.instagram.com/rojaslcc/)"
   ]
  }
 ],
 "metadata": {
  "interpreter": {
   "hash": "aee8b7b246df8f9039afb4144a1f6fd8d2ca17a180786b69acc140d282b71a49"
  },
  "kernelspec": {
   "display_name": "Python 3.10.2 64-bit",
   "language": "python",
   "name": "python3"
  },
  "language_info": {
   "codemirror_mode": {
    "name": "ipython",
    "version": 3
   },
   "file_extension": ".py",
   "mimetype": "text/x-python",
   "name": "python",
   "nbconvert_exporter": "python",
   "pygments_lexer": "ipython3",
   "version": "3.10.2"
  },
  "orig_nbformat": 4
 },
 "nbformat": 4,
 "nbformat_minor": 2
}
