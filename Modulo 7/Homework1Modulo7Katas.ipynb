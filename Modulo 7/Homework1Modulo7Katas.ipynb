{
 "cells": [
  {
   "cell_type": "markdown",
   "metadata": {},
   "source": [
    "<h1>EJERCICIO NO.1</h1>"
   ]
  },
  {
   "cell_type": "code",
   "execution_count": 10,
   "metadata": {},
   "outputs": [
    {
     "name": "stdout",
     "output_type": "stream",
     "text": [
      "\n",
      "Planetas capturados\n",
      "['Marte', 'Venus', 'Tierra', 'Neptuno', 'Saturno']\n"
     ]
    }
   ],
   "source": [
    "# Variables\n",
    "userPlanet = \"\"\n",
    "planets = []\n",
    "\n",
    "# Constantes\n",
    "EXIT_VALUE = \"0\"\n",
    "ZERO_VALUE = 0\n",
    "STR_EMPTY = \"\"\n",
    "\n",
    "# Solicitado los datos\n",
    "while (userPlanet != EXIT_VALUE):\n",
    "    if (userPlanet != STR_EMPTY):\n",
    "        planets.append(userPlanet)\n",
    "    userPlanet = input(\"Dime un planeta (Si deseas finalizar introduce 0): \")\n",
    "\n",
    "# Mostrando los datos\n",
    "if (len(planets) > ZERO_VALUE):\n",
    "    print(\"\\nPlanetas capturados\\n\" + str(planets))\n",
    "else:\n",
    "    print(\"\\nNo introdujo datos.\")"
   ]
  },
  {
   "cell_type": "markdown",
   "metadata": {},
   "source": [
    "<h1>EJERCICIO NO.2</h1>"
   ]
  },
  {
   "cell_type": "code",
   "execution_count": 12,
   "metadata": {},
   "outputs": [
    {
     "name": "stdout",
     "output_type": "stream",
     "text": [
      "\n",
      "Planetas capturados\n",
      "Marte\n",
      "Venus\n",
      "Tierra\n"
     ]
    }
   ],
   "source": [
    "# Variables\n",
    "userPlanet = \"\"\n",
    "planets = []\n",
    "\n",
    "# Constantes\n",
    "EXIT_VALUE = \"0\"\n",
    "ZERO_VALUE = 0\n",
    "STR_EMPTY = \"\"\n",
    "\n",
    "# Solicitado los datos\n",
    "while (userPlanet != EXIT_VALUE):\n",
    "    if (userPlanet != STR_EMPTY):\n",
    "        planets.append(userPlanet)\n",
    "    userPlanet = input(\"Dime un planeta (Si deseas finalizar introduce 0): \")\n",
    "\n",
    "# Mostrando los datos\n",
    "if (len(planets) > ZERO_VALUE):\n",
    "    print(\"\\nPlanetas capturados\")\n",
    "    for planet in planets:\n",
    "        print(planet)\n",
    "else:\n",
    "    print(\"\\nNo introdujo datos.\")"
   ]
  },
  {
   "cell_type": "markdown",
   "metadata": {},
   "source": [
    "<em>Katas 1 Modulo 7: Lic. Jesus Humberto Rojas Rangel\n",
    "<br/> Fecha: 2022/02/12</em>\n",
    "\n",
    "Mis Redes:\n",
    "* GitHub: [rojaslcc](https://www.github.com/rojaslcc/)\n",
    "* Linkedin: [rojaslcc](https://www.linkedin.com/in/rojaslcc/)\n",
    "* Twitter: [@rojaslcc](https://www.twitter.com/rojaslcc/)\n",
    "* Instagram: [rojaslcc](https://www.instagram.com/rojaslcc/)"
   ]
  }
 ],
 "metadata": {
  "interpreter": {
   "hash": "aee8b7b246df8f9039afb4144a1f6fd8d2ca17a180786b69acc140d282b71a49"
  },
  "kernelspec": {
   "display_name": "Python 3.10.2 64-bit",
   "language": "python",
   "name": "python3"
  },
  "language_info": {
   "codemirror_mode": {
    "name": "ipython",
    "version": 3
   },
   "file_extension": ".py",
   "mimetype": "text/x-python",
   "name": "python",
   "nbconvert_exporter": "python",
   "pygments_lexer": "ipython3",
   "version": "3.10.2"
  },
  "orig_nbformat": 4
 },
 "nbformat": 4,
 "nbformat_minor": 2
}
