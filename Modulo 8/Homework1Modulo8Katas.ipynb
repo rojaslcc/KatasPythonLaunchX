{
 "cells": [
  {
   "cell_type": "markdown",
   "metadata": {},
   "source": [
    "<h1>EJERCICIO NO.1</h1>"
   ]
  },
  {
   "cell_type": "code",
   "execution_count": 5,
   "metadata": {},
   "outputs": [
    {
     "name": "stdout",
     "output_type": "stream",
     "text": [
      "--- Datos Lunas ------------------------------------------\n",
      "Mars tiene 2 lunas\n",
      "Mars tiene circunferencia polar de 6,752 km\n"
     ]
    }
   ],
   "source": [
    "# Diccionario\n",
    "planet = {\n",
    "    \"name\": \"Mars\",\n",
    "    \"moons\": 2\n",
    "}\n",
    "\n",
    "# Template 1\n",
    "template = \"\"\"--- Datos Lunas ------------------------------------------\n",
    "{planet} tiene {moons} lunas\"\"\"\n",
    "\n",
    "# Mostrar datos del diccionario\n",
    "print(template.format(planet=planet[\"name\"], moons=planet[\"moons\"]))\n",
    "\n",
    "# Agregar circunferencia\n",
    "planet[\"circumference\"] = {\n",
    "    \"polar\": 6752,\n",
    "    \"equatorial\": 6792\n",
    "}\n",
    "\n",
    "# Template 2\n",
    "newTemplate = \"\"\"{planet} tiene circunferencia polar de {circumferenceP} km\"\"\"\n",
    "\n",
    "# Mostrando datos\n",
    "print(newTemplate.format(planet=planet[\"name\"], circumferenceP=format(planet[\"circumference\"][\"polar\"], \",\")))"
   ]
  },
  {
   "cell_type": "markdown",
   "metadata": {},
   "source": [
    "<h1>EJERCICIO NO.2</h1>"
   ]
  },
  {
   "cell_type": "code",
   "execution_count": 7,
   "metadata": {},
   "outputs": [
    {
     "name": "stdout",
     "output_type": "stream",
     "text": [
      "--- Datos Lunas en Sistena Solar ----------------------------------\n",
      "Total: 214\n",
      "Promedio: 17.833333333333332\n"
     ]
    }
   ],
   "source": [
    "# Diccionario\n",
    "planet_moons = {\n",
    "    'mercury': 0,\n",
    "    'venus': 0,\n",
    "    'earth': 1,\n",
    "    'mars': 2,\n",
    "    'jupiter': 79,\n",
    "    'saturn': 82,\n",
    "    'uranus': 27,\n",
    "    'neptune': 14,\n",
    "    'pluto': 5,\n",
    "    'haumea': 2,\n",
    "    'makemake': 1,\n",
    "    'eris': 1\n",
    "}\n",
    "\n",
    "# Obtener lista de lunas\n",
    "moons = planet_moons.values()\n",
    "\n",
    "# Obtenemos total de planetas\n",
    "planets = len(planet_moons.keys())\n",
    "\n",
    "# Calculos\n",
    "total_moons = 0\n",
    "for moon in moons:\n",
    "    total_moons += moon\n",
    "\n",
    "# Promedio\n",
    "average = total_moons / planets\n",
    "\n",
    "# Template\n",
    "template = \"\"\"--- Datos Lunas en Sistena Solar ----------------------------------\n",
    "Total: {total}\n",
    "Promedio: {prom}\"\"\"\n",
    "\n",
    "# Mostrar datos\n",
    "print(template.format(total=format(total_moons, \",\"), prom=format(average,\",\")))"
   ]
  },
  {
   "cell_type": "markdown",
   "metadata": {},
   "source": [
    "<em>Katas 1 Modulo 8: Lic. Jesus Humberto Rojas Rangel\n",
    "<br/> Fecha: 2022/02/12</em>\n",
    "\n",
    "Mis Redes:\n",
    "* GitHub: [rojaslcc](https://www.github.com/rojaslcc/)\n",
    "* Linkedin: [rojaslcc](https://www.linkedin.com/in/rojaslcc/)\n",
    "* Twitter: [@rojaslcc](https://www.twitter.com/rojaslcc/)\n",
    "* Instagram: [rojaslcc](https://www.instagram.com/rojaslcc/)"
   ]
  }
 ],
 "metadata": {
  "interpreter": {
   "hash": "aee8b7b246df8f9039afb4144a1f6fd8d2ca17a180786b69acc140d282b71a49"
  },
  "kernelspec": {
   "display_name": "Python 3.10.2 64-bit",
   "language": "python",
   "name": "python3"
  },
  "language_info": {
   "codemirror_mode": {
    "name": "ipython",
    "version": 3
   },
   "file_extension": ".py",
   "mimetype": "text/x-python",
   "name": "python",
   "nbconvert_exporter": "python",
   "pygments_lexer": "ipython3",
   "version": "3.10.2"
  },
  "orig_nbformat": 4
 },
 "nbformat": 4,
 "nbformat_minor": 2
}
