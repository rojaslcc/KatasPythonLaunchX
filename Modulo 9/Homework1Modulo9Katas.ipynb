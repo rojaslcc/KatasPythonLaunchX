{
 "cells": [
  {
   "cell_type": "markdown",
   "metadata": {},
   "source": [
    "<h1>EJERCICIO NO.1</h1>"
   ]
  },
  {
   "cell_type": "code",
   "execution_count": 1,
   "metadata": {},
   "outputs": [
    {
     "name": "stdout",
     "output_type": "stream",
     "text": [
      "--- Reporte de combustible ---------------------\n",
      "    Promedio: 72.0%\n",
      "    Tanque principal: 90%\n",
      "    Tanque externo: 50%\n",
      "    Tanque de Hidrogeno: 76%\n"
     ]
    }
   ],
   "source": [
    "# Promedio de tanques\n",
    "def average(values):\n",
    "    total = sum(values)\n",
    "    items = len(values)\n",
    "    return total / items\n",
    "\n",
    "# Reporte de combustible\n",
    "def tank_report(mainTank, externalTank, hydrogenTank):\n",
    "    return f\"\"\"--- Reporte de combustible ---------------------\n",
    "    Promedio: {average([mainTank, externalTank, hydrogenTank])}%\n",
    "    Tanque principal: {mainTank}%\n",
    "    Tanque externo: {externalTank}%\n",
    "    Tanque de Hidrogeno: {hydrogenTank}%\"\"\"\n",
    "\n",
    "# Mostrando el reporte\n",
    "print(tank_report(90, 50, 76))"
   ]
  },
  {
   "cell_type": "markdown",
   "metadata": {},
   "source": [
    "<h1>EJERCICIO NO.2</h1>"
   ]
  },
  {
   "cell_type": "code",
   "execution_count": 8,
   "metadata": {},
   "outputs": [
    {
     "name": "stdout",
     "output_type": "stream",
     "text": [
      "--- Reporte de misión -------------------------------\n",
      "    Misión con destino a: Venus\n",
      "    Tiempo de viaje: 85 minutes\n",
      "    Combustible restante: 494,949 gallons\n",
      "    \n",
      "--- Reporte de misión -------------------------------\n",
      "    Misión con destino a: Venus\n",
      "    Tiempo de viaje: 85 minutes\n",
      "    Combustible restante: 494,949 gallons\n",
      "    \n",
      "--- Reporte de misión -------------------------------\n",
      "    Misión con destino a: Venus\n",
      "    Tiempo de viaje: 85 minutes\n",
      "    Combustible restante: 494,949 galones\n",
      "    Tanque external --> 242,424 galones restantes\n",
      "    Tanque main --> 252,525 galones restantes\n",
      "    \n"
     ]
    }
   ],
   "source": [
    "# Reporte de mision 1\n",
    "def mission_report(preLaunchTime, flightTime, destination, externalTank, mainTank):\n",
    "    return f\"\"\"--- Reporte de misión -------------------------------\n",
    "    Misión con destino a: {destination}\n",
    "    Tiempo de viaje: {format(preLaunchTime + flightTime, \",\")} minutes\n",
    "    Combustible restante: {format(externalTank + mainTank, \",\")} gallons\n",
    "    \"\"\"\n",
    "\n",
    "# Mostrando reporte 1\n",
    "print(mission_report(25, 60, \"Venus\", 242424, 252525))\n",
    "\n",
    "# Reporte de mision 2\n",
    "def new_mission_report(destination, *minutes, **fuelReservoirs):\n",
    "    return f\"\"\"--- Reporte de misión -------------------------------\n",
    "    Misión con destino a: {destination}\n",
    "    Tiempo de viaje: {format(sum(minutes), \",\")} minutes\n",
    "    Combustible restante: {format(sum(fuelReservoirs.values()), \",\")} gallons\n",
    "    \"\"\"\n",
    "\n",
    "# Mostrando reporte 2\n",
    "print(new_mission_report(\"Venus\", 25, 60, external=242424, main=252525))\n",
    "\n",
    "# Reporte de mision 3\n",
    "def last_mission_report(destination, *minutes, **fuelReservoirs):\n",
    "    mainReport = f\"\"\"--- Reporte de misión -------------------------------\n",
    "    Misión con destino a: {destination}\n",
    "    Tiempo de viaje: {format(sum(minutes), \",\")} minutes\n",
    "    Combustible restante: {format(sum(fuelReservoirs.values()), \",\")} galones\n",
    "    \"\"\"\n",
    "    for name, gallons in fuelReservoirs.items():\n",
    "        mainReport += f\"Tanque {name} --> {format(gallons, ',')} galones restantes\\n    \"\n",
    "    return mainReport\n",
    "\n",
    "# Mostrando reporte 3\n",
    "print(last_mission_report(\"Venus\", 25, 60, external=242424, main=252525))\n"
   ]
  },
  {
   "cell_type": "markdown",
   "metadata": {},
   "source": [
    "<em>Katas 1 Modulo 9: Lic. Jesus Humberto Rojas Rangel\n",
    "<br/> Fecha: 2022/02/12</em>\n",
    "\n",
    "Mis Redes:\n",
    "* GitHub: [rojaslcc](https://www.github.com/rojaslcc/)\n",
    "* Linkedin: [rojaslcc](https://www.linkedin.com/in/rojaslcc/)\n",
    "* Twitter: [@rojaslcc](https://www.twitter.com/rojaslcc/)\n",
    "* Instagram: [rojaslcc](https://www.instagram.com/rojaslcc/)"
   ]
  }
 ],
 "metadata": {
  "interpreter": {
   "hash": "aee8b7b246df8f9039afb4144a1f6fd8d2ca17a180786b69acc140d282b71a49"
  },
  "kernelspec": {
   "display_name": "Python 3.10.2 64-bit",
   "language": "python",
   "name": "python3"
  },
  "language_info": {
   "codemirror_mode": {
    "name": "ipython",
    "version": 3
   },
   "file_extension": ".py",
   "mimetype": "text/x-python",
   "name": "python",
   "nbconvert_exporter": "python",
   "pygments_lexer": "ipython3",
   "version": "3.10.2"
  },
  "orig_nbformat": 4
 },
 "nbformat": 4,
 "nbformat_minor": 2
}
